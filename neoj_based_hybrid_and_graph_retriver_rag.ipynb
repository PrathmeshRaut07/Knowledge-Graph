{
  "cells": [
    {
      "cell_type": "code",
      "execution_count": 1,
      "metadata": {
        "colab": {
          "base_uri": "https://localhost:8080/"
        },
        "id": "5x3LkpUztHNU",
        "outputId": "45c483e2-c01c-4e57-b240-ba423df4d3ec"
      },
      "outputs": [
        {
          "name": "stdout",
          "output_type": "stream",
          "text": [
            "\u001b[?25l   \u001b[90m━━━━━━━━━━━━━━━━━━━━━━━━━━━━━━━━━━━━━━━━\u001b[0m \u001b[32m0.0/109.1 kB\u001b[0m \u001b[31m?\u001b[0m eta \u001b[36m-:--:--\u001b[0m\r\u001b[2K   \u001b[90m━━━━━━━━━━━━━━━━━━━━━━━━━━━━━━━━━━━━━━━━\u001b[0m \u001b[32m109.1/109.1 kB\u001b[0m \u001b[31m4.0 MB/s\u001b[0m eta \u001b[36m0:00:00\u001b[0m\n",
            "\u001b[?25h"
          ]
        }
      ],
      "source": [
        "%pip install --upgrade --quiet  langchain langchain-community langchain-openai langchain-experimental neo4j wikipedia tiktoken yfiles_jupyter_graphs langchain_groq"
      ]
    },
    {
      "cell_type": "code",
      "execution_count": 8,
      "metadata": {
        "id": "jPIRSGz4tHNV"
      },
      "outputs": [],
      "source": [
        "from langchain_core.runnables import (\n",
        "    RunnableBranch,\n",
        "    RunnableLambda,\n",
        "    RunnableParallel,\n",
        "    RunnablePassthrough,\n",
        ")\n",
        "from langchain_core.prompts import ChatPromptTemplate\n",
        "from langchain_core.prompts.prompt import PromptTemplate\n",
        "from langchain_core.pydantic_v1 import BaseModel, Field\n",
        "from typing import Tuple, List, Optional\n",
        "from langchain_core.messages import AIMessage, HumanMessage\n",
        "from langchain_core.output_parsers import StrOutputParser\n",
        "import os\n",
        "from langchain_community.graphs import Neo4jGraph\n",
        "from langchain.document_loaders import WikipediaLoader\n",
        "from langchain.text_splitter import TokenTextSplitter\n",
        "from langchain_openai import ChatOpenAI\n",
        "from langchain_experimental.graph_transformers import LLMGraphTransformer\n",
        "from neo4j import GraphDatabase\n",
        "from yfiles_jupyter_graphs import GraphWidget\n",
        "from langchain_community.vectorstores import Neo4jVector\n",
        "from langchain_openai import OpenAIEmbeddings\n",
        "from langchain_community.vectorstores.neo4j_vector import remove_lucene_chars\n",
        "from langchain_core.runnables import ConfigurableField, RunnableParallel, RunnablePassthrough\n",
        "\n",
        "try:\n",
        "  import google.colab\n",
        "  from google.colab import output\n",
        "  output.enable_custom_widget_manager()\n",
        "except:\n",
        "  pass"
      ]
    },
    {
      "cell_type": "code",
      "execution_count": 9,
      "metadata": {
        "id": "L0nXP1aYtHNW"
      },
      "outputs": [],
      "source": [
        "from google.colab import userdata\n",
        "\n",
        "\n",
        "graph = Neo4jGraph()"
      ]
    },
    {
      "cell_type": "code",
      "execution_count": 10,
      "metadata": {
        "id": "sGhtLTAStHNW"
      },
      "outputs": [],
      "source": [
        "# Read the wikipedia article\n",
        "raw_documents = WikipediaLoader(query=\"Dalle Open AI\").load()\n",
        "# Define chunking strategy\n",
        "text_splitter = TokenTextSplitter(chunk_size=512, chunk_overlap=24)\n",
        "documents = text_splitter.split_documents(raw_documents[:3])"
      ]
    },
    {
      "cell_type": "markdown",
      "metadata": {
        "id": "kphZMjjVuGAM"
      },
      "source": [
        "Now it's time to construct a graph based on the retrieved documents. For this purpose, we have implemented an `LLMGraphTransformermodule` that significantly simplifies constructing and storing a knowledge graph in a graph database."
      ]
    },
    {
      "cell_type": "code",
      "execution_count": 11,
      "metadata": {
        "id": "pXf7OTGHtHNW"
      },
      "outputs": [],
      "source": [
        "from langchain_groq import ChatGroq\n",
        "\n",
        "llm=ChatGroq(groq_api_key=groq_api_key,model_name=\"Gemma2-9b-It\")\n",
        "llm_transformer = LLMGraphTransformer(llm=llm)\n",
        "\n",
        "graph_documents = llm_transformer.convert_to_graph_documents(documents)\n",
        "graph.add_graph_documents(\n",
        "    graph_documents,\n",
        "    baseEntityLabel=True,\n",
        "    include_source=True\n",
        ")"
      ]
    },
    {
      "cell_type": "code",
      "execution_count": 12,
      "metadata": {
        "colab": {
          "base_uri": "https://localhost:8080/",
          "height": 817,
          "referenced_widgets": [
            "9afc481ecae14f75a23fed19149cdbd2",
            "e1699c6f34e6456baf3ddad5cb715242"
          ]
        },
        "id": "RMZlhtDmtHNW",
        "outputId": "8394f953-2432-4298-dd6d-12f1539a9ad7"
      },
      "outputs": [
        {
          "data": {
            "application/vnd.jupyter.widget-view+json": {
              "model_id": "9afc481ecae14f75a23fed19149cdbd2",
              "version_major": 2,
              "version_minor": 0
            },
            "text/plain": [
              "GraphWidget(layout=Layout(height='800px', width='100%'))"
            ]
          },
          "metadata": {
            "application/vnd.jupyter.widget-view+json": {
              "colab": {
                "custom_widget_manager": {
                  "url": "https://ssl.gstatic.com/colaboratory-static/widgets/colab-cdn-widget-manager/2b70e893a8ba7c0f/manager.min.js"
                }
              }
            }
          },
          "output_type": "display_data"
        }
      ],
      "source": [
        "# directly show the graph resulting from the given Cypher query\n",
        "default_cypher = \"MATCH (s)-[r:!MENTIONS]->(t) RETURN s,r,t LIMIT 50\"\n",
        "\n",
        "def showGraph(cypher: str = default_cypher):\n",
        "    # create a neo4j session to run queries\n",
        "    driver = GraphDatabase.driver(\n",
        "        uri = os.environ[\"NEO4J_URI\"],\n",
        "        auth = (os.environ[\"NEO4J_USERNAME\"],\n",
        "                os.environ[\"NEO4J_PASSWORD\"]))\n",
        "    session = driver.session()\n",
        "    widget = GraphWidget(graph = session.run(cypher).graph())\n",
        "    widget.node_label_mapping = 'id'\n",
        "    #display(widget)\n",
        "    return widget\n",
        "\n",
        "showGraph()"
      ]
    },
    {
      "cell_type": "code",
      "execution_count": 14,
      "metadata": {
        "id": "GHbJPMfDtHNW"
      },
      "outputs": [],
      "source": [
        "from google.colab import userdata\n",
        "# open_ai=userdata.get('open_ai')\n",
        "# api_key=open_ai\n",
        "from langchain.embeddings import OllamaEmbeddings\n",
        "vector_index = Neo4jVector.from_existing_graph(\n",
        "   OllamaEmbeddings()\n",
        "    search_type=\"hybrid\",\n",
        "    node_label=\"Document\",\n",
        "    text_node_properties=[\"text\"],\n",
        "    embedding_node_property=\"embedding\"\n",
        ")"
      ]
    },
    {
      "cell_type": "code",
      "execution_count": 17,
      "metadata": {
        "id": "6yCMz_sRtHNW"
      },
      "outputs": [],
      "source": [
        "# Retriever\n",
        "\n",
        "graph.query(\n",
        "    \"CREATE FULLTEXT INDEX entity IF NOT EXISTS FOR (e:__Entity__) ON EACH [e.id]\")\n",
        "\n",
        "# Extract entities from text\n",
        "class Entities(BaseModel):\n",
        "    \"\"\"Identifying information about entities.\"\"\"\n",
        "\n",
        "    names: List[str] = Field(\n",
        "        ...,\n",
        "        description=\"All the person, organization, or business entities that \"\n",
        "        \"appear in the text\",\n",
        "    )\n",
        "\n",
        "prompt = ChatPromptTemplate.from_messages(\n",
        "    [\n",
        "        (\n",
        "            \"system\",\n",
        "            \"You are extracting organization and person entities from the text.\",\n",
        "        ),\n",
        "        (\n",
        "            \"human\",\n",
        "            \"Use the given format to extract information from the following \"\n",
        "            \"input: {question}\",\n",
        "        ),\n",
        "    ]\n",
        ")\n",
        "\n",
        "entity_chain = prompt | llm.with_structured_output(Entities)"
      ]
    },
    {
      "cell_type": "markdown",
      "metadata": {
        "id": "n-Cs7RFAzdT3"
      },
      "source": [
        "Let's test it out:"
      ]
    },
    {
      "cell_type": "code",
      "execution_count": 21,
      "metadata": {
        "colab": {
          "base_uri": "https://localhost:8080/"
        },
        "id": "54H15KNAtHNX",
        "outputId": "69e932f4-dc00-4852-95be-b62f1f959a78"
      },
      "outputs": [
        {
          "data": {
            "text/plain": [
              "['openai']"
            ]
          },
          "execution_count": 21,
          "metadata": {},
          "output_type": "execute_result"
        }
      ],
      "source": [
        "entity_chain.invoke({\"question\": \"What open ai created for art\"}).names"
      ]
    },
    {
      "cell_type": "markdown",
      "metadata": {
        "id": "e2S2aWq5zfQO"
      },
      "source": [
        "Great, now that we can detect entities in the question, let's use a full-text index to map them to the knowledge graph. First, we need to define a full-text index and a function that will generate full-text queries that allow a bit of misspelling, which we won't go into much detail here."
      ]
    },
    {
      "cell_type": "code",
      "execution_count": 19,
      "metadata": {
        "id": "dY8huoM8tHNX"
      },
      "outputs": [],
      "source": [
        "def generate_full_text_query(input: str) -> str:\n",
        "    \"\"\"\n",
        "    Generate a full-text search query for a given input string.\n",
        "\n",
        "    This function constructs a query string suitable for a full-text search.\n",
        "    It processes the input string by splitting it into words and appending a\n",
        "    similarity threshold (~2 changed characters) to each word, then combines\n",
        "    them using the AND operator. Useful for mapping entities from user questions\n",
        "    to database values, and allows for some misspelings.\n",
        "    \"\"\"\n",
        "    full_text_query = \"\"\n",
        "    words = [el for el in remove_lucene_chars(input).split() if el]\n",
        "    for word in words[:-1]:\n",
        "        full_text_query += f\" {word}~2 AND\"\n",
        "    full_text_query += f\" {words[-1]}~2\"\n",
        "    return full_text_query.strip()\n",
        "\n",
        "# Fulltext index query\n",
        "def structured_retriever(question: str) -> str:\n",
        "    \"\"\"\n",
        "    Collects the neighborhood of entities mentioned\n",
        "    in the question\n",
        "    \"\"\"\n",
        "    result = \"\"\n",
        "    entities = entity_chain.invoke({\"question\": question})\n",
        "    for entity in entities.names:\n",
        "        response = graph.query(\n",
        "            \"\"\"CALL db.index.fulltext.queryNodes('entity', $query, {limit:2})\n",
        "            YIELD node,score\n",
        "            CALL {\n",
        "              WITH node\n",
        "              MATCH (node)-[r:!MENTIONS]->(neighbor)\n",
        "              RETURN node.id + ' - ' + type(r) + ' -> ' + neighbor.id AS output\n",
        "              UNION ALL\n",
        "              WITH node\n",
        "              MATCH (node)<-[r:!MENTIONS]-(neighbor)\n",
        "              RETURN neighbor.id + ' - ' + type(r) + ' -> ' +  node.id AS output\n",
        "            }\n",
        "            RETURN output LIMIT 50\n",
        "            \"\"\",\n",
        "            {\"query\": generate_full_text_query(entity)},\n",
        "        )\n",
        "        result += \"\\n\".join([el['output'] for el in response])\n",
        "    return result"
      ]
    },
    {
      "cell_type": "markdown",
      "metadata": {
        "id": "g-F9BjghzjdH"
      },
      "source": [
        "The `structured_retriever` function starts by detecting entities in the user question. Next, it iterates over the detected entities and uses a Cypher template to retrieve the neighborhood of relevant nodes. Let's test it out!"
      ]
    },
    {
      "cell_type": "code",
      "execution_count": 20,
      "metadata": {
        "colab": {
          "base_uri": "https://localhost:8080/"
        },
        "id": "_6fOJRPntHNX",
        "outputId": "60e8952c-5722-4bdf-d2c9-4c4e2385ee64"
      },
      "outputs": [
        {
          "name": "stderr",
          "output_type": "stream",
          "text": [
            "<ipython-input-19-1a77de7b1cb4>:12: LangChainDeprecationWarning: The function `remove_lucene_chars` was deprecated in LangChain 0.3.8 and will be removed in 1.0. An updated version of the function exists in the :meth:`~langchain-neo4j package and should be used instead. To use it run `pip install -U :meth:`~langchain-neo4j` and import as `from :meth:`~langchain_neo4j.vectorstores.neo4j_vector import remove_lucene_chars``.\n",
            "  words = [el for el in remove_lucene_chars(input).split() if el]\n",
            "WARNING:neo4j.notifications:Received notification from DBMS server: {severity: WARNING} {code: Neo.ClientNotification.Statement.FeatureDeprecationWarning} {category: DEPRECATION} {title: This feature is deprecated and will be removed in future versions.} {description: CALL subquery without a variable scope clause is now deprecated. Use CALL (node, node) { ... }} {position: line: 3, column: 13, offset: 104} for query: \"CALL db.index.fulltext.queryNodes('entity', $query, {limit:2})\\n            YIELD node,score\\n            CALL {\\n              WITH node\\n              MATCH (node)-[r:!MENTIONS]->(neighbor)\\n              RETURN node.id + ' - ' + type(r) + ' -> ' + neighbor.id AS output\\n              UNION ALL\\n              WITH node\\n              MATCH (node)<-[r:!MENTIONS]-(neighbor)\\n              RETURN neighbor.id + ' - ' + type(r) + ' -> ' +  node.id AS output\\n            }\\n            RETURN output LIMIT 50\\n            \"\n"
          ]
        },
        {
          "name": "stdout",
          "output_type": "stream",
          "text": [
            "Jürgen Schmidhuber - IS_DIRECTOR_AT -> Dalle Molle Institute For Artificial Intelligence Research\n",
            "Dall-E - DEVELOPED_BY -> Openai\n",
            "Dall-E - NAMED_AFTER -> Wall-E\n",
            "Dall-E - NAMED_AFTER -> Salvador Dalí\n",
            "Dall-E - USED -> Clip\n",
            "Dall-E - USED_IN -> Artificial Intelligence Art\n",
            "Gpt - CREATED -> Dall-E\n"
          ]
        }
      ],
      "source": [
        "print(structured_retriever(\"What is Dalle\"))"
      ]
    },
    {
      "cell_type": "markdown",
      "metadata": {
        "id": "xN9c_dEozyaO"
      },
      "source": [
        "## Final retriever\n",
        "As we mentioned at the start, we'll combine the unstructured and graph retriever to create the final context that will be passed to an LLM."
      ]
    },
    {
      "cell_type": "code",
      "execution_count": 22,
      "metadata": {
        "id": "iCTMp3prtHNX"
      },
      "outputs": [],
      "source": [
        "def retriever(question: str):\n",
        "    print(f\"Search query: {question}\")\n",
        "    structured_data = structured_retriever(question)\n",
        "    unstructured_data = [el.page_content for el in vector_index.similarity_search(question)]\n",
        "    final_data = f\"\"\"Structured data:\n",
        "{structured_data}\n",
        "Unstructured data:\n",
        "{\"#Document \". join(unstructured_data)}\n",
        "    \"\"\"\n",
        "    return final_data"
      ]
    },
    {
      "cell_type": "markdown",
      "metadata": {
        "id": "NZG9Q8Ohz3Hn"
      },
      "source": [
        "As we are dealing with Python, we can simply concatenate the outputs using the f-string.\n",
        "## Defining the RAG chain\n",
        "We have successfully implemented the retrieval component of the RAG. First, we will introduce the query rewriting part that allows conversational follow up questions.\n"
      ]
    },
    {
      "cell_type": "code",
      "execution_count": 24,
      "metadata": {
        "id": "vu68Z79ttHNX"
      },
      "outputs": [],
      "source": [
        "# Condense a chat history and follow-up question into a standalone question\n",
        "_template = \"\"\"Given the following conversation and a follow up question, rephrase the follow up question to be a standalone question,\n",
        "in its original language.\n",
        "Chat History:\n",
        "{chat_history}\n",
        "Follow Up Input: {question}\n",
        "Standalone question:\"\"\"  # noqa: E501\n",
        "CONDENSE_QUESTION_PROMPT = PromptTemplate.from_template(_template)\n",
        "\n",
        "def _format_chat_history(chat_history: List[Tuple[str, str]]) -> List:\n",
        "    buffer = []\n",
        "    for human, ai in chat_history:\n",
        "        buffer.append(HumanMessage(content=human))\n",
        "        buffer.append(AIMessage(content=ai))\n",
        "    return buffer\n",
        "\n",
        "_search_query = RunnableBranch(\n",
        "    # If input includes chat_history, we condense it with the follow-up question\n",
        "    (\n",
        "        RunnableLambda(lambda x: bool(x.get(\"chat_history\"))).with_config(\n",
        "            run_name=\"HasChatHistoryCheck\"\n",
        "        ),  # Condense follow-up question and chat into a standalone_question\n",
        "        RunnablePassthrough.assign(\n",
        "            chat_history=lambda x: _format_chat_history(x[\"chat_history\"])\n",
        "        )\n",
        "        | CONDENSE_QUESTION_PROMPT\n",
        "        | ChatOpenAI(api_key=api_key,temperature=0)\n",
        "        | StrOutputParser(),\n",
        "    ),\n",
        "    # Else, we have no chat history, so just pass through the question\n",
        "    RunnableLambda(lambda x : x[\"question\"]),\n",
        ")"
      ]
    },
    {
      "cell_type": "markdown",
      "metadata": {
        "id": "CsH90hbvz_aF"
      },
      "source": [
        "Next, we introduce a prompt that leverages the context provided by the integrated hybrid retriever to produce the response, completing the implementation of the RAG chain."
      ]
    },
    {
      "cell_type": "code",
      "execution_count": 25,
      "metadata": {
        "id": "Dzb2jcittHNY"
      },
      "outputs": [],
      "source": [
        "template = \"\"\"Answer the question based only on the following context:\n",
        "{context}\n",
        "\n",
        "Question: {question}\n",
        "Use natural language and be concise.\n",
        "Answer:\"\"\"\n",
        "prompt = ChatPromptTemplate.from_template(template)\n",
        "\n",
        "chain = (\n",
        "    RunnableParallel(\n",
        "        {\n",
        "            \"context\": _search_query | retriever,\n",
        "            \"question\": RunnablePassthrough(),\n",
        "        }\n",
        "    )\n",
        "    | prompt\n",
        "    | llm\n",
        "    | StrOutputParser()\n",
        ")"
      ]
    },
    {
      "cell_type": "markdown",
      "metadata": {
        "id": "w3SeRw0L0Gy3"
      },
      "source": [
        "Finally, we can go ahead and test our hybrid RAG implementation."
      ]
    },
    {
      "cell_type": "code",
      "execution_count": 26,
      "metadata": {
        "colab": {
          "base_uri": "https://localhost:8080/",
          "height": 111
        },
        "id": "dtU0iMNgtHNY",
        "outputId": "49fdcc1b-4888-49e6-d1e4-5692af0d6799"
      },
      "outputs": [
        {
          "name": "stdout",
          "output_type": "stream",
          "text": [
            "Search query: What does the open ai latest art model do?\n"
          ]
        },
        {
          "name": "stderr",
          "output_type": "stream",
          "text": [
            "WARNING:neo4j.notifications:Received notification from DBMS server: {severity: WARNING} {code: Neo.ClientNotification.Statement.FeatureDeprecationWarning} {category: DEPRECATION} {title: This feature is deprecated and will be removed in future versions.} {description: CALL subquery without a variable scope clause is now deprecated. Use CALL (node, node) { ... }} {position: line: 3, column: 13, offset: 104} for query: \"CALL db.index.fulltext.queryNodes('entity', $query, {limit:2})\\n            YIELD node,score\\n            CALL {\\n              WITH node\\n              MATCH (node)-[r:!MENTIONS]->(neighbor)\\n              RETURN node.id + ' - ' + type(r) + ' -> ' + neighbor.id AS output\\n              UNION ALL\\n              WITH node\\n              MATCH (node)<-[r:!MENTIONS]-(neighbor)\\n              RETURN neighbor.id + ' - ' + type(r) + ' -> ' +  node.id AS output\\n            }\\n            RETURN output LIMIT 50\\n            \"\n",
            "WARNING:neo4j.notifications:Received notification from DBMS server: {severity: WARNING} {code: Neo.ClientNotification.Statement.FeatureDeprecationWarning} {category: DEPRECATION} {title: This feature is deprecated and will be removed in future versions.} {description: CALL subquery without a variable scope clause is now deprecated. Use CALL () { ... }} {position: line: 1, column: 1, offset: 0} for query: \"CALL { CALL db.index.vector.queryNodes($index, $k, $embedding) YIELD node, score WITH collect({node:node, score:score}) AS nodes, max(score) AS max UNWIND nodes AS n RETURN n.node AS node, (n.score / max) AS score UNION CALL db.index.fulltext.queryNodes($keyword_index, $query, {limit: $k}) YIELD node, score WITH collect({node:node, score:score}) AS nodes, max(score) AS max UNWIND nodes AS n RETURN n.node AS node, (n.score / max) AS score } WITH node, max(score) AS score ORDER BY score DESC LIMIT $k RETURN reduce(str='', k IN ['text'] | str + '\\\\n' + k + ': ' + coalesce(node[k], '')) AS text, node {.*, `embedding`: Null, id: Null, `text`: Null} AS metadata, score\"\n"
          ]
        },
        {
          "data": {
            "application/vnd.google.colaboratory.intrinsic+json": {
              "type": "string"
            },
            "text/plain": [
              "\"OpenAI's latest art model, DALL-E 3, generates digital images from text descriptions (prompts) with greater nuance and detail than previous versions.  \\n\""
            ]
          },
          "execution_count": 26,
          "metadata": {},
          "output_type": "execute_result"
        }
      ],
      "source": [
        "chain.invoke({\"question\": \"What does the open ai latest art model do?\"})"
      ]
    },
    {
      "cell_type": "code",
      "execution_count": null,
      "metadata": {
        "id": "CvaTiHtNtHNY"
      },
      "outputs": [],
      "source": []
    }
  ],
  "metadata": {
    "colab": {
      "provenance": []
    },
    "kernelspec": {
      "display_name": "Python 3 (ipykernel)",
      "language": "python",
      "name": "python3"
    },
    "language_info": {
      "codemirror_mode": {
        "name": "ipython",
        "version": 3
      },
      "file_extension": ".py",
      "mimetype": "text/x-python",
      "name": "python",
      "nbconvert_exporter": "python",
      "pygments_lexer": "ipython3",
      "version": "3.11.5"
    },
    "widgets": {
      "application/vnd.jupyter.widget-state+json": {
        "9afc481ecae14f75a23fed19149cdbd2": {
          "model_module": "yfiles-jupyter-graphs",
          "model_module_version": "^1.10.0",
          "model_name": "GraphModel",
          "state": {
            "_context_pane_mapping": [
              {
                "id": "Neighborhood",
                "title": "Neighborhood"
              },
              {
                "id": "Data",
                "title": "Data"
              },
              {
                "id": "Search",
                "title": "Search"
              },
              {
                "id": "About",
                "title": "About"
              }
            ],
            "_data_importer": "neo4j",
            "_directed": true,
            "_dom_classes": [],
            "_edges": [
              {
                "color": "#2196F3",
                "directed": true,
                "end": 4,
                "id": 1152922604118474800,
                "label": "DEVELOPED_BY",
                "properties": {
                  "label": "DEVELOPED_BY"
                },
                "start": 1,
                "styles": {},
                "thickness_factor": 1
              },
              {
                "color": "#4CAF50",
                "directed": true,
                "end": 6,
                "id": 1152925902653358000,
                "label": "NAMED_AFTER",
                "properties": {
                  "label": "NAMED_AFTER"
                },
                "start": 1,
                "styles": {},
                "thickness_factor": 1
              },
              {
                "color": "#4CAF50",
                "directed": true,
                "end": 7,
                "id": 1155177702467043300,
                "label": "NAMED_AFTER",
                "properties": {
                  "label": "NAMED_AFTER"
                },
                "start": 1,
                "styles": {},
                "thickness_factor": 1
              },
              {
                "color": "#F44336",
                "directed": true,
                "end": 15,
                "id": 1152929201188241400,
                "label": "USED",
                "properties": {
                  "label": "USED"
                },
                "start": 1,
                "styles": {},
                "thickness_factor": 1
              },
              {
                "color": "#607D8B",
                "directed": true,
                "end": 48,
                "id": 1152946793374285800,
                "label": "USED_IN",
                "properties": {
                  "label": "USED_IN"
                },
                "start": 1,
                "styles": {},
                "thickness_factor": 1
              },
              {
                "color": "#2196F3",
                "directed": true,
                "end": 4,
                "id": 1152922604118474800,
                "label": "DEVELOPED_BY",
                "properties": {
                  "label": "DEVELOPED_BY"
                },
                "start": 2,
                "styles": {},
                "thickness_factor": 1
              },
              {
                "color": "#673AB7",
                "directed": true,
                "end": 5,
                "id": 1152923703630102500,
                "label": "IMPLEMENTED_BY",
                "properties": {
                  "label": "IMPLEMENTED_BY"
                },
                "start": 2,
                "styles": {},
                "thickness_factor": 1
              },
              {
                "color": "#CDDC39",
                "directed": true,
                "end": 9,
                "id": 1152924803141730300,
                "label": "INTEGRATED_INTO",
                "properties": {
                  "label": "INTEGRATED_INTO"
                },
                "start": 2,
                "styles": {},
                "thickness_factor": 1
              },
              {
                "color": "#CDDC39",
                "directed": true,
                "end": 10,
                "id": 1155176602955415600,
                "label": "INTEGRATED_INTO",
                "properties": {
                  "label": "INTEGRATED_INTO"
                },
                "start": 2,
                "styles": {},
                "thickness_factor": 1
              },
              {
                "color": "#CDDC39",
                "directed": true,
                "end": 11,
                "id": 1157428402769100800,
                "label": "INTEGRATED_INTO",
                "properties": {
                  "label": "INTEGRATED_INTO"
                },
                "start": 2,
                "styles": {},
                "thickness_factor": 1
              },
              {
                "color": "#CDDC39",
                "directed": true,
                "end": 12,
                "id": 1159680202582786000,
                "label": "INTEGRATED_INTO",
                "properties": {
                  "label": "INTEGRATED_INTO"
                },
                "start": 2,
                "styles": {},
                "thickness_factor": 1
              },
              {
                "color": "#2196F3",
                "directed": true,
                "end": 4,
                "id": 1152922604118474800,
                "label": "DEVELOPED_BY",
                "properties": {
                  "label": "DEVELOPED_BY"
                },
                "start": 3,
                "styles": {},
                "thickness_factor": 1
              },
              {
                "color": "#9E9E9E",
                "directed": true,
                "end": 8,
                "id": 1152927002164985900,
                "label": "INTEGRATED_WITHIN",
                "properties": {
                  "label": "INTEGRATED_WITHIN"
                },
                "start": 3,
                "styles": {},
                "thickness_factor": 1
              },
              {
                "color": "#9C27B0",
                "directed": true,
                "end": 1,
                "id": 1152928101676613600,
                "label": "CREATED",
                "properties": {
                  "label": "CREATED"
                },
                "start": 14,
                "styles": {},
                "thickness_factor": 1
              },
              {
                "color": "#2196F3",
                "directed": true,
                "end": 18,
                "id": 6917537823734104000,
                "label": "WORKS_IN",
                "properties": {
                  "label": "WORKS_IN"
                },
                "start": 17,
                "styles": {},
                "thickness_factor": 1
              },
              {
                "color": "#4CAF50",
                "directed": true,
                "end": 19,
                "id": 6917538923245732000,
                "label": "IS_DIRECTOR_AT",
                "properties": {
                  "label": "IS_DIRECTOR_AT"
                },
                "start": 17,
                "styles": {},
                "thickness_factor": 1
              },
              {
                "color": "#F44336",
                "directed": true,
                "end": 20,
                "id": 6917540022757360000,
                "label": "IS_DIRECTOR_OF",
                "properties": {
                  "label": "IS_DIRECTOR_OF"
                },
                "start": 17,
                "styles": {},
                "thickness_factor": 1
              },
              {
                "color": "#607D8B",
                "directed": true,
                "end": 21,
                "id": 6917541122268987000,
                "label": "IS_PROFESSOR_AT",
                "properties": {
                  "label": "IS_PROFESSOR_AT"
                },
                "start": 17,
                "styles": {},
                "thickness_factor": 1
              },
              {
                "color": "#673AB7",
                "directed": true,
                "end": 22,
                "id": 6917542221780615000,
                "label": "DEVELOPED",
                "properties": {
                  "label": "DEVELOPED"
                },
                "start": 17,
                "styles": {},
                "thickness_factor": 1
              },
              {
                "color": "#CDDC39",
                "directed": true,
                "end": 23,
                "id": 6917543321292243000,
                "label": "INTRODUCED_PRINCIPLE_OF",
                "properties": {
                  "label": "INTRODUCED_PRINCIPLE_OF"
                },
                "start": 17,
                "styles": {},
                "thickness_factor": 1
              },
              {
                "color": "#CDDC39",
                "directed": true,
                "end": 24,
                "id": 6917543321292243000,
                "label": "INTRODUCED_PRINCIPLE_OF",
                "properties": {
                  "label": "INTRODUCED_PRINCIPLE_OF"
                },
                "start": 17,
                "styles": {},
                "thickness_factor": 1
              },
              {
                "color": "#CDDC39",
                "directed": true,
                "end": 25,
                "id": 6917543321292243000,
                "label": "INTRODUCED_PRINCIPLE_OF",
                "properties": {
                  "label": "INTRODUCED_PRINCIPLE_OF"
                },
                "start": 17,
                "styles": {},
                "thickness_factor": 1
              },
              {
                "color": "#CDDC39",
                "directed": true,
                "end": 26,
                "id": 6917543321292243000,
                "label": "INTRODUCED_PRINCIPLE_OF",
                "properties": {
                  "label": "INTRODUCED_PRINCIPLE_OF"
                },
                "start": 17,
                "styles": {},
                "thickness_factor": 1
              },
              {
                "color": "#9E9E9E",
                "directed": true,
                "end": 29,
                "id": 1152936897769635800,
                "label": "IS_TRAINED_WITH",
                "properties": {
                  "label": "IS_TRAINED_WITH"
                },
                "start": 28,
                "styles": {},
                "thickness_factor": 1
              },
              {
                "color": "#9C27B0",
                "directed": true,
                "end": 30,
                "id": 1152937997281263600,
                "label": "USES",
                "properties": {
                  "label": "USES"
                },
                "start": 28,
                "styles": {},
                "thickness_factor": 1
              },
              {
                "color": "#2196F3",
                "directed": true,
                "end": 31,
                "id": 1152939096792891400,
                "label": "FACILITATES",
                "properties": {
                  "label": "FACILITATES"
                },
                "start": 28,
                "styles": {},
                "thickness_factor": 1
              },
              {
                "color": "#4CAF50",
                "directed": true,
                "end": 32,
                "id": 1152940196304519200,
                "label": "CAN_BE_COLLAPSED_INTO",
                "properties": {
                  "label": "CAN_BE_COLLAPSED_INTO"
                },
                "start": 28,
                "styles": {},
                "thickness_factor": 1
              },
              {
                "color": "#4CAF50",
                "directed": true,
                "end": 33,
                "id": 1155191996118204400,
                "label": "CAN_BE_COLLAPSED_INTO",
                "properties": {
                  "label": "CAN_BE_COLLAPSED_INTO"
                },
                "start": 28,
                "styles": {},
                "thickness_factor": 1
              },
              {
                "color": "#F44336",
                "directed": true,
                "end": 34,
                "id": 1152941295816147000,
                "label": "SUPERVISED_DEVELOPMENT_OF",
                "properties": {
                  "label": "SUPERVISED_DEVELOPMENT_OF"
                },
                "start": 45,
                "styles": {},
                "thickness_factor": 1
              },
              {
                "color": "#607D8B",
                "directed": true,
                "end": 35,
                "id": 1152942395327774700,
                "label": "CONCEPT_CONNECTION_TO",
                "properties": {
                  "label": "CONCEPT_CONNECTION_TO"
                },
                "start": 45,
                "styles": {},
                "thickness_factor": 1
              },
              {
                "color": "#607D8B",
                "directed": true,
                "end": 36,
                "id": 1155194195141460000,
                "label": "CONCEPT_CONNECTION_TO",
                "properties": {
                  "label": "CONCEPT_CONNECTION_TO"
                },
                "start": 45,
                "styles": {},
                "thickness_factor": 1
              },
              {
                "color": "#607D8B",
                "directed": true,
                "end": 37,
                "id": 1157445994955145200,
                "label": "CONCEPT_CONNECTION_TO",
                "properties": {
                  "label": "CONCEPT_CONNECTION_TO"
                },
                "start": 45,
                "styles": {},
                "thickness_factor": 1
              },
              {
                "color": "#607D8B",
                "directed": true,
                "end": 38,
                "id": 1159697794768830500,
                "label": "CONCEPT_CONNECTION_TO",
                "properties": {
                  "label": "CONCEPT_CONNECTION_TO"
                },
                "start": 45,
                "styles": {},
                "thickness_factor": 1
              },
              {
                "color": "#607D8B",
                "directed": true,
                "end": 39,
                "id": 1161949594582515700,
                "label": "CONCEPT_CONNECTION_TO",
                "properties": {
                  "label": "CONCEPT_CONNECTION_TO"
                },
                "start": 45,
                "styles": {},
                "thickness_factor": 1
              },
              {
                "color": "#673AB7",
                "directed": true,
                "end": 22,
                "id": 1152934698746380300,
                "label": "DEVELOPED",
                "properties": {
                  "label": "DEVELOPED"
                },
                "start": 46,
                "styles": {},
                "thickness_factor": 1
              },
              {
                "color": "#673AB7",
                "directed": true,
                "end": 42,
                "id": 1155186498560065500,
                "label": "DEVELOPED",
                "properties": {
                  "label": "DEVELOPED"
                },
                "start": 46,
                "styles": {},
                "thickness_factor": 1
              },
              {
                "color": "#673AB7",
                "directed": true,
                "end": 43,
                "id": 1157438298373750800,
                "label": "DEVELOPED",
                "properties": {
                  "label": "DEVELOPED"
                },
                "start": 46,
                "styles": {},
                "thickness_factor": 1
              },
              {
                "color": "#673AB7",
                "directed": true,
                "end": 40,
                "id": 1152943494839402500,
                "label": "STUDIED",
                "properties": {
                  "label": "STUDIED"
                },
                "start": 46,
                "styles": {},
                "thickness_factor": 1
              },
              {
                "color": "#CDDC39",
                "directed": true,
                "end": 41,
                "id": 1152944594351030300,
                "label": "ANALYZED_AND_OVERCAME",
                "properties": {
                  "label": "ANALYZED_AND_OVERCAME"
                },
                "start": 46,
                "styles": {},
                "thickness_factor": 1
              },
              {
                "color": "#9E9E9E",
                "directed": true,
                "end": 49,
                "id": 1152945693862658000,
                "label": "CREATED_BY",
                "properties": {
                  "label": "CREATED_BY"
                },
                "start": 48,
                "styles": {},
                "thickness_factor": 1
              },
              {
                "color": "#9E9E9E",
                "directed": true,
                "end": 48,
                "id": 6919805016710578000,
                "label": "CREATED_BY",
                "properties": {
                  "label": "CREATED_BY"
                },
                "start": 50,
                "styles": {},
                "thickness_factor": 1
              },
              {
                "color": "#607D8B",
                "directed": true,
                "end": 48,
                "id": 1152946793374285800,
                "label": "USED_IN",
                "properties": {
                  "label": "USED_IN"
                },
                "start": 51,
                "styles": {},
                "thickness_factor": 1
              },
              {
                "color": "#607D8B",
                "directed": true,
                "end": 48,
                "id": 1152946793374285800,
                "label": "USED_IN",
                "properties": {
                  "label": "USED_IN"
                },
                "start": 52,
                "styles": {},
                "thickness_factor": 1
              },
              {
                "color": "#607D8B",
                "directed": true,
                "end": 48,
                "id": 1152946793374285800,
                "label": "USED_IN",
                "properties": {
                  "label": "USED_IN"
                },
                "start": 53,
                "styles": {},
                "thickness_factor": 1
              },
              {
                "color": "#9C27B0",
                "directed": true,
                "end": 48,
                "id": 1152947892885913600,
                "label": "PRECURSOR_TO",
                "properties": {
                  "label": "PRECURSOR_TO"
                },
                "start": 54,
                "styles": {},
                "thickness_factor": 1
              },
              {
                "color": "#2196F3",
                "directed": true,
                "end": 54,
                "id": 1152948992397541400,
                "label": "CREATOR_OF",
                "properties": {
                  "label": "CREATOR_OF"
                },
                "start": 55,
                "styles": {},
                "thickness_factor": 1
              },
              {
                "color": "#4CAF50",
                "directed": true,
                "end": 54,
                "id": 1152950091909169200,
                "label": "INSPIRED_BY",
                "properties": {
                  "label": "INSPIRED_BY"
                },
                "start": 56,
                "styles": {},
                "thickness_factor": 1
              },
              {
                "color": "#F44336",
                "directed": true,
                "end": 48,
                "id": 1152951191420797000,
                "label": "CONCEPTUALIZED_BY",
                "properties": {
                  "label": "CONCEPTUALIZED_BY"
                },
                "start": 57,
                "styles": {},
                "thickness_factor": 1
              },
              {
                "color": "#607D8B",
                "directed": true,
                "end": 48,
                "id": 1152952290932424700,
                "label": "INFLUENCED_BY",
                "properties": {
                  "label": "INFLUENCED_BY"
                },
                "start": 58,
                "styles": {},
                "thickness_factor": 1
              }
            ],
            "_graph_layout": {},
            "_highlight": [],
            "_license": {},
            "_model_module": "yfiles-jupyter-graphs",
            "_model_module_version": "^1.10.0",
            "_model_name": "GraphModel",
            "_neighborhood": {},
            "_nodes": [
              {
                "color": "#2196F3",
                "id": 1,
                "label": "Dall-E",
                "position": [
                  0,
                  0
                ],
                "properties": {
                  "id": "Dall-E",
                  "label": "Software:Person:__Entity__"
                },
                "scale_factor": 1,
                "size": [
                  55,
                  55
                ],
                "styles": {},
                "type": "#2196F3"
              },
              {
                "color": "#4CAF50",
                "id": 4,
                "label": "Openai",
                "position": [
                  0,
                  0
                ],
                "properties": {
                  "id": "Openai",
                  "label": "__Entity__:Organization"
                },
                "scale_factor": 1,
                "size": [
                  55,
                  55
                ],
                "styles": {},
                "type": "#4CAF50"
              },
              {
                "color": "#F44336",
                "id": 6,
                "label": "Wall-E",
                "position": [
                  0,
                  0
                ],
                "properties": {
                  "id": "Wall-E",
                  "label": "Character:__Entity__"
                },
                "scale_factor": 1,
                "size": [
                  55,
                  55
                ],
                "styles": {},
                "type": "#F44336"
              },
              {
                "color": "#607D8B",
                "id": 7,
                "label": "Salvador Dalí",
                "position": [
                  0,
                  0
                ],
                "properties": {
                  "id": "Salvador Dalí",
                  "label": "Person:__Entity__"
                },
                "scale_factor": 1,
                "size": [
                  55,
                  55
                ],
                "styles": {},
                "type": "#607D8B"
              },
              {
                "color": "#607D8B",
                "id": 15,
                "label": "Clip",
                "position": [
                  0,
                  0
                ],
                "properties": {
                  "id": "Clip",
                  "label": "Person:__Entity__"
                },
                "scale_factor": 1,
                "size": [
                  55,
                  55
                ],
                "styles": {},
                "type": "#607D8B"
              },
              {
                "color": "#673AB7",
                "id": 48,
                "label": "Artificial Intelligence Art",
                "position": [
                  0,
                  0
                ],
                "properties": {
                  "id": "Artificial Intelligence Art",
                  "label": "Concept:__Entity__"
                },
                "scale_factor": 1,
                "size": [
                  55,
                  55
                ],
                "styles": {},
                "type": "#673AB7"
              },
              {
                "color": "#607D8B",
                "id": 2,
                "label": "Dall-E 2",
                "position": [
                  0,
                  0
                ],
                "properties": {
                  "id": "Dall-E 2",
                  "label": "Person:__Entity__"
                },
                "scale_factor": 1,
                "size": [
                  55,
                  55
                ],
                "styles": {},
                "type": "#607D8B"
              },
              {
                "color": "#4CAF50",
                "id": 5,
                "label": "Microsoft",
                "position": [
                  0,
                  0
                ],
                "properties": {
                  "id": "Microsoft",
                  "label": "__Entity__:Organization"
                },
                "scale_factor": 1,
                "size": [
                  55,
                  55
                ],
                "styles": {},
                "type": "#4CAF50"
              },
              {
                "color": "#CDDC39",
                "id": 9,
                "label": "Bing",
                "position": [
                  0,
                  0
                ],
                "properties": {
                  "id": "Bing",
                  "label": "Software:__Entity__"
                },
                "scale_factor": 1,
                "size": [
                  55,
                  55
                ],
                "styles": {},
                "type": "#CDDC39"
              },
              {
                "color": "#CDDC39",
                "id": 10,
                "label": "Microsoft Edge",
                "position": [
                  0,
                  0
                ],
                "properties": {
                  "id": "Microsoft Edge",
                  "label": "Software:__Entity__"
                },
                "scale_factor": 1,
                "size": [
                  55,
                  55
                ],
                "styles": {},
                "type": "#CDDC39"
              },
              {
                "color": "#CDDC39",
                "id": 11,
                "label": "Designer",
                "position": [
                  0,
                  0
                ],
                "properties": {
                  "id": "Designer",
                  "label": "Software:__Entity__"
                },
                "scale_factor": 1,
                "size": [
                  55,
                  55
                ],
                "styles": {},
                "type": "#CDDC39"
              },
              {
                "color": "#CDDC39",
                "id": 12,
                "label": "Image Creator",
                "position": [
                  0,
                  0
                ],
                "properties": {
                  "id": "Image Creator",
                  "label": "Software:__Entity__"
                },
                "scale_factor": 1,
                "size": [
                  55,
                  55
                ],
                "styles": {},
                "type": "#CDDC39"
              },
              {
                "color": "#607D8B",
                "id": 3,
                "label": "Dall-E 3",
                "position": [
                  0,
                  0
                ],
                "properties": {
                  "id": "Dall-E 3",
                  "label": "Person:__Entity__"
                },
                "scale_factor": 1,
                "size": [
                  55,
                  55
                ],
                "styles": {},
                "type": "#607D8B"
              },
              {
                "color": "#CDDC39",
                "id": 8,
                "label": "Chatgpt",
                "position": [
                  0,
                  0
                ],
                "properties": {
                  "id": "Chatgpt",
                  "label": "Software:__Entity__"
                },
                "scale_factor": 1,
                "size": [
                  55,
                  55
                ],
                "styles": {},
                "type": "#CDDC39"
              },
              {
                "color": "#607D8B",
                "id": 14,
                "label": "Gpt",
                "position": [
                  0,
                  0
                ],
                "properties": {
                  "id": "Gpt",
                  "label": "Person:__Entity__"
                },
                "scale_factor": 1,
                "size": [
                  55,
                  55
                ],
                "styles": {},
                "type": "#607D8B"
              },
              {
                "color": "#607D8B",
                "id": 17,
                "label": "Jürgen Schmidhuber",
                "position": [
                  0,
                  0
                ],
                "properties": {
                  "id": "Jürgen Schmidhuber",
                  "label": "Person:__Entity__"
                },
                "scale_factor": 1,
                "size": [
                  55,
                  55
                ],
                "styles": {},
                "type": "#607D8B"
              },
              {
                "color": "#9E9E9E",
                "id": 18,
                "label": "Artificial Intelligence",
                "position": [
                  0,
                  0
                ],
                "properties": {
                  "id": "Artificial Intelligence",
                  "label": "__Entity__"
                },
                "scale_factor": 1,
                "size": [
                  55,
                  55
                ],
                "styles": {},
                "type": "#9E9E9E"
              },
              {
                "color": "#9E9E9E",
                "id": 19,
                "label": "Dalle Molle Institute For Artificial Intelligence Research",
                "position": [
                  0,
                  0
                ],
                "properties": {
                  "id": "Dalle Molle Institute For Artificial Intelligence Research",
                  "label": "__Entity__"
                },
                "scale_factor": 1,
                "size": [
                  55,
                  55
                ],
                "styles": {},
                "type": "#9E9E9E"
              },
              {
                "color": "#9E9E9E",
                "id": 20,
                "label": "Artificial Intelligence Initiative",
                "position": [
                  0,
                  0
                ],
                "properties": {
                  "id": "Artificial Intelligence Initiative",
                  "label": "__Entity__"
                },
                "scale_factor": 1,
                "size": [
                  55,
                  55
                ],
                "styles": {},
                "type": "#9E9E9E"
              },
              {
                "color": "#9E9E9E",
                "id": 21,
                "label": "King Abdullah University Of Science And Technology",
                "position": [
                  0,
                  0
                ],
                "properties": {
                  "id": "King Abdullah University Of Science And Technology",
                  "label": "__Entity__"
                },
                "scale_factor": 1,
                "size": [
                  55,
                  55
                ],
                "styles": {},
                "type": "#9E9E9E"
              },
              {
                "color": "#673AB7",
                "id": 22,
                "label": "Long Short-Term Memory",
                "position": [
                  0,
                  0
                ],
                "properties": {
                  "id": "Long Short-Term Memory",
                  "label": "Concept:__Entity__"
                },
                "scale_factor": 1,
                "size": [
                  55,
                  55
                ],
                "styles": {},
                "type": "#673AB7"
              },
              {
                "color": "#9E9E9E",
                "id": 23,
                "label": "Dynamic Neural Networks",
                "position": [
                  0,
                  0
                ],
                "properties": {
                  "id": "Dynamic Neural Networks",
                  "label": "__Entity__"
                },
                "scale_factor": 1,
                "size": [
                  55,
                  55
                ],
                "styles": {},
                "type": "#9E9E9E"
              },
              {
                "color": "#9E9E9E",
                "id": 24,
                "label": "Meta-Learning",
                "position": [
                  0,
                  0
                ],
                "properties": {
                  "id": "Meta-Learning",
                  "label": "__Entity__"
                },
                "scale_factor": 1,
                "size": [
                  55,
                  55
                ],
                "styles": {},
                "type": "#9E9E9E"
              },
              {
                "color": "#9E9E9E",
                "id": 25,
                "label": "Generative Adversarial Networks",
                "position": [
                  0,
                  0
                ],
                "properties": {
                  "id": "Generative Adversarial Networks",
                  "label": "__Entity__"
                },
                "scale_factor": 1,
                "size": [
                  55,
                  55
                ],
                "styles": {},
                "type": "#9E9E9E"
              },
              {
                "color": "#9E9E9E",
                "id": 26,
                "label": "Linear Transformers",
                "position": [
                  0,
                  0
                ],
                "properties": {
                  "id": "Linear Transformers",
                  "label": "__Entity__"
                },
                "scale_factor": 1,
                "size": [
                  55,
                  55
                ],
                "styles": {},
                "type": "#9E9E9E"
              },
              {
                "color": "#673AB7",
                "id": 28,
                "label": "Rnns",
                "position": [
                  0,
                  0
                ],
                "properties": {
                  "id": "Rnns",
                  "label": "Concept:__Entity__"
                },
                "scale_factor": 1,
                "size": [
                  55,
                  55
                ],
                "styles": {},
                "type": "#673AB7"
              },
              {
                "color": "#673AB7",
                "id": 29,
                "label": "Self-Supervised Learning",
                "position": [
                  0,
                  0
                ],
                "properties": {
                  "id": "Self-Supervised Learning",
                  "label": "Concept:__Entity__"
                },
                "scale_factor": 1,
                "size": [
                  55,
                  55
                ],
                "styles": {},
                "type": "#673AB7"
              },
              {
                "color": "#673AB7",
                "id": 30,
                "label": "Predictive Coding",
                "position": [
                  0,
                  0
                ],
                "properties": {
                  "id": "Predictive Coding",
                  "label": "Concept:__Entity__"
                },
                "scale_factor": 1,
                "size": [
                  55,
                  55
                ],
                "styles": {},
                "type": "#673AB7"
              },
              {
                "color": "#673AB7",
                "id": 31,
                "label": "Deep Learning",
                "position": [
                  0,
                  0
                ],
                "properties": {
                  "id": "Deep Learning",
                  "label": "Concept:__Entity__"
                },
                "scale_factor": 1,
                "size": [
                  55,
                  55
                ],
                "styles": {},
                "type": "#673AB7"
              },
              {
                "color": "#673AB7",
                "id": 32,
                "label": "Chunker Network",
                "position": [
                  0,
                  0
                ],
                "properties": {
                  "id": "Chunker Network",
                  "label": "Concept:__Entity__"
                },
                "scale_factor": 1,
                "size": [
                  55,
                  55
                ],
                "styles": {},
                "type": "#673AB7"
              },
              {
                "color": "#673AB7",
                "id": 33,
                "label": "Automatizer Network",
                "position": [
                  0,
                  0
                ],
                "properties": {
                  "id": "Automatizer Network",
                  "label": "Concept:__Entity__"
                },
                "scale_factor": 1,
                "size": [
                  55,
                  55
                ],
                "styles": {},
                "type": "#673AB7"
              },
              {
                "color": "#607D8B",
                "id": 45,
                "label": "Schmidhuber",
                "position": [
                  0,
                  0
                ],
                "properties": {
                  "id": "Schmidhuber",
                  "label": "Person:__Entity__"
                },
                "scale_factor": 1,
                "size": [
                  55,
                  55
                ],
                "styles": {},
                "type": "#607D8B"
              },
              {
                "color": "#673AB7",
                "id": 34,
                "label": "Adversarial Neural Networks",
                "position": [
                  0,
                  0
                ],
                "properties": {
                  "id": "Adversarial Neural Networks",
                  "label": "Concept:__Entity__"
                },
                "scale_factor": 1,
                "size": [
                  55,
                  55
                ],
                "styles": {},
                "type": "#673AB7"
              },
              {
                "color": "#673AB7",
                "id": 35,
                "label": "Zero-Sum Game",
                "position": [
                  0,
                  0
                ],
                "properties": {
                  "id": "Zero-Sum Game",
                  "label": "Concept:__Entity__"
                },
                "scale_factor": 1,
                "size": [
                  55,
                  55
                ],
                "styles": {},
                "type": "#673AB7"
              },
              {
                "color": "#673AB7",
                "id": 36,
                "label": "Generative Model",
                "position": [
                  0,
                  0
                ],
                "properties": {
                  "id": "Generative Model",
                  "label": "Concept:__Entity__"
                },
                "scale_factor": 1,
                "size": [
                  55,
                  55
                ],
                "styles": {},
                "type": "#673AB7"
              },
              {
                "color": "#673AB7",
                "id": 37,
                "label": "Gradient Descent",
                "position": [
                  0,
                  0
                ],
                "properties": {
                  "id": "Gradient Descent",
                  "label": "Concept:__Entity__"
                },
                "scale_factor": 1,
                "size": [
                  55,
                  55
                ],
                "styles": {},
                "type": "#673AB7"
              },
              {
                "color": "#673AB7",
                "id": 38,
                "label": "Generative Adversarial Network",
                "position": [
                  0,
                  0
                ],
                "properties": {
                  "id": "Generative Adversarial Network",
                  "label": "Concept:__Entity__"
                },
                "scale_factor": 1,
                "size": [
                  55,
                  55
                ],
                "styles": {},
                "type": "#673AB7"
              },
              {
                "color": "#673AB7",
                "id": 39,
                "label": "Gans",
                "position": [
                  0,
                  0
                ],
                "properties": {
                  "id": "Gans",
                  "label": "Concept:__Entity__"
                },
                "scale_factor": 1,
                "size": [
                  55,
                  55
                ],
                "styles": {},
                "type": "#673AB7"
              },
              {
                "color": "#9E9E9E",
                "id": 46,
                "label": "Hochreiter",
                "position": [
                  0,
                  0
                ],
                "properties": {
                  "id": "Hochreiter",
                  "label": "__Entity__"
                },
                "scale_factor": 1,
                "size": [
                  55,
                  55
                ],
                "styles": {},
                "type": "#9E9E9E"
              },
              {
                "color": "#673AB7",
                "id": 42,
                "label": "Lstm",
                "position": [
                  0,
                  0
                ],
                "properties": {
                  "id": "Lstm",
                  "label": "Concept:__Entity__"
                },
                "scale_factor": 1,
                "size": [
                  55,
                  55
                ],
                "styles": {},
                "type": "#673AB7"
              },
              {
                "color": "#673AB7",
                "id": 43,
                "label": "Recurrent Neural Network",
                "position": [
                  0,
                  0
                ],
                "properties": {
                  "id": "Recurrent Neural Network",
                  "label": "Concept:__Entity__"
                },
                "scale_factor": 1,
                "size": [
                  55,
                  55
                ],
                "styles": {},
                "type": "#673AB7"
              },
              {
                "color": "#673AB7",
                "id": 40,
                "label": "Neural History Compressor",
                "position": [
                  0,
                  0
                ],
                "properties": {
                  "id": "Neural History Compressor",
                  "label": "Concept:__Entity__"
                },
                "scale_factor": 1,
                "size": [
                  55,
                  55
                ],
                "styles": {},
                "type": "#673AB7"
              },
              {
                "color": "#673AB7",
                "id": 41,
                "label": "Vanishing Gradient Problem",
                "position": [
                  0,
                  0
                ],
                "properties": {
                  "id": "Vanishing Gradient Problem",
                  "label": "Concept:__Entity__"
                },
                "scale_factor": 1,
                "size": [
                  55,
                  55
                ],
                "styles": {},
                "type": "#673AB7"
              },
              {
                "color": "#673AB7",
                "id": 49,
                "label": "Ai Programs",
                "position": [
                  0,
                  0
                ],
                "properties": {
                  "id": "Ai Programs",
                  "label": "Concept:__Entity__"
                },
                "scale_factor": 1,
                "size": [
                  55,
                  55
                ],
                "styles": {},
                "type": "#673AB7"
              },
              {
                "color": "#607D8B",
                "id": 50,
                "label": "Artists",
                "position": [
                  0,
                  0
                ],
                "properties": {
                  "id": "Artists",
                  "label": "Person:__Entity__"
                },
                "scale_factor": 1,
                "size": [
                  55,
                  55
                ],
                "styles": {},
                "type": "#607D8B"
              },
              {
                "color": "#CDDC39",
                "id": 51,
                "label": "Midjourney",
                "position": [
                  0,
                  0
                ],
                "properties": {
                  "id": "Midjourney",
                  "label": "Software:__Entity__"
                },
                "scale_factor": 1,
                "size": [
                  55,
                  55
                ],
                "styles": {},
                "type": "#CDDC39"
              },
              {
                "color": "#CDDC39",
                "id": 52,
                "label": "Stable Diffusion",
                "position": [
                  0,
                  0
                ],
                "properties": {
                  "id": "Stable Diffusion",
                  "label": "Software:__Entity__"
                },
                "scale_factor": 1,
                "size": [
                  55,
                  55
                ],
                "styles": {},
                "type": "#CDDC39"
              },
              {
                "color": "#CDDC39",
                "id": 53,
                "label": "Flux.1",
                "position": [
                  0,
                  0
                ],
                "properties": {
                  "id": "Flux.1",
                  "label": "Software:__Entity__"
                },
                "scale_factor": 1,
                "size": [
                  55,
                  55
                ],
                "styles": {},
                "type": "#CDDC39"
              },
              {
                "color": "#9C27B0",
                "id": 54,
                "label": "Maillardet'S Automaton",
                "position": [
                  0,
                  0
                ],
                "properties": {
                  "id": "Maillardet'S Automaton",
                  "label": "Art:__Entity__"
                },
                "scale_factor": 1,
                "size": [
                  55,
                  55
                ],
                "styles": {},
                "type": "#9C27B0"
              },
              {
                "color": "#607D8B",
                "id": 55,
                "label": "Daedalus",
                "position": [
                  0,
                  0
                ],
                "properties": {
                  "id": "Daedalus",
                  "label": "Person:__Entity__"
                },
                "scale_factor": 1,
                "size": [
                  55,
                  55
                ],
                "styles": {},
                "type": "#607D8B"
              },
              {
                "color": "#607D8B",
                "id": 56,
                "label": "Hero Of Alexandria",
                "position": [
                  0,
                  0
                ],
                "properties": {
                  "id": "Hero Of Alexandria",
                  "label": "Person:__Entity__"
                },
                "scale_factor": 1,
                "size": [
                  55,
                  55
                ],
                "styles": {},
                "type": "#607D8B"
              },
              {
                "color": "#607D8B",
                "id": 57,
                "label": "Ada Lovelace",
                "position": [
                  0,
                  0
                ],
                "properties": {
                  "id": "Ada Lovelace",
                  "label": "Person:__Entity__"
                },
                "scale_factor": 1,
                "size": [
                  55,
                  55
                ],
                "styles": {},
                "type": "#607D8B"
              },
              {
                "color": "#607D8B",
                "id": 58,
                "label": "Alan Turing",
                "position": [
                  0,
                  0
                ],
                "properties": {
                  "id": "Alan Turing",
                  "label": "Person:__Entity__"
                },
                "scale_factor": 1,
                "size": [
                  55,
                  55
                ],
                "styles": {},
                "type": "#607D8B"
              }
            ],
            "_overview": {
              "enabled": null,
              "overview_set": false
            },
            "_selected_graph": [
              [],
              []
            ],
            "_sidebar": {
              "enabled": false,
              "start_with": null
            },
            "_view_count": null,
            "_view_module": "yfiles-jupyter-graphs",
            "_view_module_version": "^1.10.0",
            "_view_name": "GraphView",
            "layout": "IPY_MODEL_e1699c6f34e6456baf3ddad5cb715242",
            "tabbable": null,
            "tooltip": null
          }
        },
        "e1699c6f34e6456baf3ddad5cb715242": {
          "model_module": "@jupyter-widgets/base",
          "model_module_version": "2.0.0",
          "model_name": "LayoutModel",
          "state": {
            "_model_module": "@jupyter-widgets/base",
            "_model_module_version": "2.0.0",
            "_model_name": "LayoutModel",
            "_view_count": null,
            "_view_module": "@jupyter-widgets/base",
            "_view_module_version": "2.0.0",
            "_view_name": "LayoutView",
            "align_content": null,
            "align_items": null,
            "align_self": null,
            "border_bottom": null,
            "border_left": null,
            "border_right": null,
            "border_top": null,
            "bottom": null,
            "display": null,
            "flex": null,
            "flex_flow": null,
            "grid_area": null,
            "grid_auto_columns": null,
            "grid_auto_flow": null,
            "grid_auto_rows": null,
            "grid_column": null,
            "grid_gap": null,
            "grid_row": null,
            "grid_template_areas": null,
            "grid_template_columns": null,
            "grid_template_rows": null,
            "height": "800px",
            "justify_content": null,
            "justify_items": null,
            "left": null,
            "margin": null,
            "max_height": null,
            "max_width": null,
            "min_height": null,
            "min_width": null,
            "object_fit": null,
            "object_position": null,
            "order": null,
            "overflow": null,
            "padding": null,
            "right": null,
            "top": null,
            "visibility": null,
            "width": "100%"
          }
        }
      }
    }
  },
  "nbformat": 4,
  "nbformat_minor": 0
}
